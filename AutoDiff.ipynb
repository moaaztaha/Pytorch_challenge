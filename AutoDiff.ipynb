{
 "cells": [
  {
   "cell_type": "code",
   "execution_count": 4,
   "metadata": {},
   "outputs": [],
   "source": [
    "import autograd.numpy as np\n",
    "from autograd import grad"
   ]
  },
  {
   "cell_type": "code",
   "execution_count": 5,
   "metadata": {},
   "outputs": [],
   "source": [
    "def sigmoid(x):\n",
    "    return 0.5*(np.tanh(x) + 1)"
   ]
  },
  {
   "cell_type": "code",
   "execution_count": 6,
   "metadata": {},
   "outputs": [],
   "source": [
    "def logitsitc_predictions(weights, inputs):\n",
    "    # outputs probability of a label being true according to logistic model\n",
    "    return sigmoid(np.dot(inputs, weights))"
   ]
  },
  {
   "cell_type": "code",
   "execution_count": 7,
   "metadata": {},
   "outputs": [],
   "source": [
    "def training_loss(weights):\n",
    "    # is the negative log-likelihood of the training labels\n",
    "    preds = logitsitc_predictions(weights, inputs)\n",
    "    label_probabilities = preds * targets + (1 - preds) * (1 - targets)\n",
    "    return -np.sum(np.log(label_probabilities))"
   ]
  },
  {
   "cell_type": "code",
   "execution_count": 15,
   "metadata": {},
   "outputs": [
    {
     "name": "stdout",
     "output_type": "stream",
     "text": [
      "Intial loss: 11.090354888959125\n",
      "Loss: 9.779759028827753\n",
      "Loss: 8.999510539045632\n",
      "Loss: 8.997409526128608\n",
      "Loss: 8.997363365252886\n",
      "Loss: 8.99736233735993\n",
      "Trained loss: 8.997362314465905\n",
      "Weights: [1.32709981e-05 1.32709981e-05 5.49290403e-01]\n"
     ]
    }
   ],
   "source": [
    "# function that returns gradients of training loss using Autograd\n",
    "training_gradient_fun = grad(training_loss)\n",
    "\n",
    "weights = np.array([0.0, 0, 0])\n",
    "inputs = np.array([[0, 0, 1], [1, 1, 1], [1, 0, 1], [0, 1, 1]])\n",
    "targets = np.array([[0, 1, 1, 1]]).T\n",
    "\n",
    "# Optimize weights using gradient descent\n",
    "print(f\"Intial loss: {training_loss(weights)}\")\n",
    "for i in range(500):\n",
    "    weights -= training_gradient_fun(weights) * 0.01\n",
    "    if i%100 == 1:\n",
    "        print(f\"Loss: {training_loss(weights)}\")\n",
    "    \n",
    "print(f\"Trained loss: {training_loss(weights)}\")\n",
    "print(f\"Weights: {weights}\")"
   ]
  }
 ],
 "metadata": {
  "kernelspec": {
   "display_name": "Python 3",
   "language": "python",
   "name": "python3"
  },
  "language_info": {
   "codemirror_mode": {
    "name": "ipython",
    "version": 3
   },
   "file_extension": ".py",
   "mimetype": "text/x-python",
   "name": "python",
   "nbconvert_exporter": "python",
   "pygments_lexer": "ipython3",
   "version": "3.7.1"
  }
 },
 "nbformat": 4,
 "nbformat_minor": 2
}
